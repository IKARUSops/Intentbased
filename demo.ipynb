{
  "cells": [
    {
      "cell_type": "markdown",
      "metadata": {
        "id": "RJ116sZpGHub"
      },
      "source": [
        "# INDEX"
      ]
    },
    {
      "cell_type": "code",
      "execution_count": null,
      "metadata": {
        "id": "O2cFqzKoGHue",
        "outputId": "16a9d27e-e4bf-482c-a7b3-6a61a715da6f"
      },
      "outputs": [
        {
          "name": "stderr",
          "output_type": "stream",
          "text": [
            "USER_AGENT environment variable not set, consider setting it to identify your requests.\n"
          ]
        }
      ],
      "source": [
        "# Index\n",
        "\n",
        "from langchain_community.document_loaders import WebBaseLoader\n",
        "from langchain_nomic.embeddings import NomicEmbeddings\n",
        "from langchain_elasticsearch import ElasticsearchStore\n",
        "from langchain_text_splitters import RecursiveCharacterTextSplitter\n",
        "from langchain_community.vectorstores import FAISS\n",
        "from langchain_ollama import OllamaEmbeddings\n",
        "\n",
        "urls = [\n",
        "    \"https://lilianweng.github.io/posts/2023-06-23-agent/\",\n",
        "    \"https://lilianweng.github.io/posts/2023-03-15-prompt-engineering/\",\n",
        "    \"https://lilianweng.github.io/posts/2023-10-25-adv-attack-llm/\",\n",
        "]\n",
        "\n",
        "docs = [WebBaseLoader(url).load() for url in urls]\n",
        "docs_list = [item for sublist in docs for item in sublist]\n",
        "\n",
        "text_splitter = RecursiveCharacterTextSplitter.from_tiktoken_encoder(\n",
        "    chunk_size=500, chunk_overlap=50\n",
        ")\n",
        "doc_splits = text_splitter.split_documents(docs_list)\n",
        "documents=doc_splits\n",
        "\n",
        "embeddings = OllamaEmbeddings(model=\"all-minilm\")\n",
        "\n",
        "\n",
        "db = FAISS.from_documents(documents, embeddings)\n",
        "\n",
        "retriever = db.as_retriever()\n"
      ]
    },
    {
      "cell_type": "markdown",
      "metadata": {
        "id": "pyeo8gwZGHug"
      },
      "source": [
        "# 2. Retrieval Grader"
      ]
    },
    {
      "cell_type": "code",
      "execution_count": null,
      "metadata": {
        "id": "qmyADvrwGHug",
        "outputId": "aea60d97-bd2d-4a5e-efef-c19d3a0c316f"
      },
      "outputs": [
        {
          "name": "stderr",
          "output_type": "stream",
          "text": [
            "C:\\Users\\BS00728\\AppData\\Local\\Temp\\ipykernel_25400\\3703970419.py:10: LangChainDeprecationWarning: The class `ChatOllama` was deprecated in LangChain 0.3.1 and will be removed in 1.0.0. An updated version of the class exists in the :class:`~langchain-ollama package and should be used instead. To use it run `pip install -U :class:`~langchain-ollama` and import as `from :class:`~langchain_ollama import ChatOllama``.\n",
            "  llm = ChatOllama(model=local_llm, format=\"json\", temperature=0)\n"
          ]
        },
        {
          "name": "stdout",
          "output_type": "stream",
          "text": [
            "{'score': 'yes'}\n"
          ]
        }
      ],
      "source": [
        "# Retrieval Grader\n",
        "local_llm = \"gemma3:4b\"\n",
        "# local_llm=\"phi3.5\"\n",
        "\n",
        "from langchain_community.chat_models import ChatOllama\n",
        "from langchain_core.output_parsers import JsonOutputParser\n",
        "from langchain_core.prompts import PromptTemplate\n",
        "\n",
        "# LLM\n",
        "llm = ChatOllama(model=local_llm, format=\"json\", temperature=0)\n",
        "\n",
        "\n",
        "prompt = PromptTemplate(\n",
        "    template=\"\"\"\n",
        "You are a grader checking if a retrieved document is relevant to a user's question.\n",
        "\n",
        "A document is relevant if it contains keywords or information clearly related to the question.\n",
        "This is not a strict test—your goal is to filter out obviously unrelated results.\n",
        "\n",
        "Return a binary relevance score:\n",
        "- Use \"yes\" if the document is relevant.\n",
        "- Use \"no\" if the document is not relevant.\n",
        "\n",
        "Output the result as a JSON object with a single key \"score\". Do not include any explanation or additional text.\n",
        "\n",
        "Document:\n",
        "{document}\n",
        "\n",
        "Question:\n",
        "{question}\n",
        "\n",
        "Your answer (JSON only):\n",
        "\"\"\",\n",
        "    input_variables=[\"question\", \"document\"],\n",
        ")\n",
        "\n",
        "retrieval_grader = prompt | llm | JsonOutputParser()\n",
        "question = \"what is an agent?\"\n",
        "docs = retriever.invoke(question)\n",
        "doc_txt = docs[1].page_content\n",
        "print(retrieval_grader.invoke({\"question\": question, \"document\": doc_txt}))"
      ]
    },
    {
      "cell_type": "code",
      "execution_count": null,
      "metadata": {
        "id": "0L2KMz3dGHuh",
        "outputId": "9b681d40-e678-430d-8ce8-bb422352e549"
      },
      "outputs": [
        {
          "data": {
            "text/plain": [
              "[Document(metadata={'source': 'https://lilianweng.github.io/posts/2023-06-23-agent/', 'title': \"LLM Powered Autonomous Agents | Lil'Log\", 'description': 'Building agents with LLM (large language model) as its core controller is a cool concept. Several proof-of-concepts demos, such as AutoGPT, GPT-Engineer and BabyAGI, serve as inspiring examples. The potentiality of LLM extends beyond generating well-written copies, stories, essays and programs; it can be framed as a powerful general problem solver.\\nAgent System Overview\\nIn a LLM-powered autonomous agent system, LLM functions as the agent’s brain, complemented by several key components:\\n\\nPlanning\\n\\nSubgoal and decomposition: The agent breaks down large tasks into smaller, manageable subgoals, enabling efficient handling of complex tasks.\\nReflection and refinement: The agent can do self-criticism and self-reflection over past actions, learn from mistakes and refine them for future steps, thereby improving the quality of final results.\\n\\n\\nMemory\\n\\nShort-term memory: I would consider all the in-context learning (See Prompt Engineering) as utilizing short-term memory of the model to learn.\\nLong-term memory: This provides the agent with the capability to retain and recall (infinite) information over extended periods, often by leveraging an external vector store and fast retrieval.\\n\\n\\nTool use\\n\\nThe agent learns to call external APIs for extra information that is missing from the model weights (often hard to change after pre-training), including current information, code execution capability, access to proprietary information sources and more.\\n\\n\\n\\n\\nFig. 1. Overview of a LLM-powered autonomous agent system.\\nComponent One: Planning\\nA complicated task usually involves many steps. An agent needs to know what they are and plan ahead.', 'language': 'en'}, page_content=\"LLM Powered Autonomous Agents | Lil'Log\\n\\n\\n\\n\\n\\n\\n\\n\\n\\n\\n\\n\\n\\n\\n\\n\\n\\n\\n\\n\\n\\n\\n\\n\\n\\n\\n\\n\\n\\n\\n\\n\\n\\n\\n\\n\\n\\n\\n\\nLil'Log\\n\\n\\n\\n\\n\\n\\n\\n\\n\\n\\n\\n\\n\\n\\n\\n\\n\\n|\\n\\n\\n\\n\\n\\n\\nPosts\\n\\n\\n\\n\\nArchive\\n\\n\\n\\n\\nSearch\\n\\n\\n\\n\\nTags\\n\\n\\n\\n\\nFAQ\\n\\n\\n\\n\\n\\n\\n\\n\\n\\n      LLM Powered Autonomous Agents\\n    \\nDate: June 23, 2023  |  Estimated Reading Time: 31 min  |  Author: Lilian Weng\\n\\n\\n \\n\\n\\nTable of Contents\\n\\n\\n\\nAgent System Overview\\n\\nComponent One: Planning\\n\\nTask Decomposition\\n\\nSelf-Reflection\\n\\n\\nComponent Two: Memory\\n\\nTypes of Memory\\n\\nMaximum Inner Product Search (MIPS)\\n\\n\\nComponent Three: Tool Use\\n\\nCase Studies\\n\\nScientific Discovery Agent\\n\\nGenerative Agents Simulation\\n\\nProof-of-Concept Examples\\n\\n\\nChallenges\\n\\nCitation\\n\\nReferences\\n\\n\\n\\n\\n\\nBuilding agents with LLM (large language model) as its core controller is a cool concept. Several proof-of-concepts demos, such as AutoGPT, GPT-Engineer and BabyAGI, serve as inspiring examples. The potentiality of LLM extends beyond generating well-written copies, stories, essays and programs; it can be framed as a powerful general problem solver.\\nAgent System Overview#\\nIn a LLM-powered autonomous agent system, LLM functions as the agent’s brain, complemented by several key components:\\n\\nPlanning\\n\\nSubgoal and decomposition: The agent breaks down large tasks into smaller, manageable subgoals, enabling efficient handling of complex tasks.\\nReflection and refinement: The agent can do self-criticism and self-reflection over past actions, learn from mistakes and refine them for future steps, thereby improving the quality of final results.\\n\\n\\nMemory\\n\\nShort-term memory: I would consider all the in-context learning (See Prompt Engineering) as utilizing short-term memory of the model to learn.\\nLong-term memory: This provides the agent with the capability to retain and recall (infinite) information over extended periods, often by leveraging an external vector store and fast retrieval.\\n\\n\\nTool use\"),\n",
              " Document(metadata={'source': 'https://lilianweng.github.io/posts/2023-06-23-agent/', 'title': \"LLM Powered Autonomous Agents | Lil'Log\", 'description': 'Building agents with LLM (large language model) as its core controller is a cool concept. Several proof-of-concepts demos, such as AutoGPT, GPT-Engineer and BabyAGI, serve as inspiring examples. The potentiality of LLM extends beyond generating well-written copies, stories, essays and programs; it can be framed as a powerful general problem solver.\\nAgent System Overview\\nIn a LLM-powered autonomous agent system, LLM functions as the agent’s brain, complemented by several key components:\\n\\nPlanning\\n\\nSubgoal and decomposition: The agent breaks down large tasks into smaller, manageable subgoals, enabling efficient handling of complex tasks.\\nReflection and refinement: The agent can do self-criticism and self-reflection over past actions, learn from mistakes and refine them for future steps, thereby improving the quality of final results.\\n\\n\\nMemory\\n\\nShort-term memory: I would consider all the in-context learning (See Prompt Engineering) as utilizing short-term memory of the model to learn.\\nLong-term memory: This provides the agent with the capability to retain and recall (infinite) information over extended periods, often by leveraging an external vector store and fast retrieval.\\n\\n\\nTool use\\n\\nThe agent learns to call external APIs for extra information that is missing from the model weights (often hard to change after pre-training), including current information, code execution capability, access to proprietary information sources and more.\\n\\n\\n\\n\\nFig. 1. Overview of a LLM-powered autonomous agent system.\\nComponent One: Planning\\nA complicated task usually involves many steps. An agent needs to know what they are and plan ahead.', 'language': 'en'}, page_content=\"Each element is an observation, an event directly provided by the agent.\\n- Inter-agent communication can trigger new natural language statements.\\n\\n\\nRetrieval model: surfaces the context to inform the agent’s behavior, according to relevance, recency and importance.\\n\\nRecency: recent events have higher scores\\nImportance: distinguish mundane from core memories. Ask LM directly.\\nRelevance: based on how related it is to the current situation / query.\\n\\n\\nReflection mechanism: synthesizes memories into higher level inferences over time and guides the agent’s future behavior. They are higher-level summaries of past events (<- note that this is a bit different from self-reflection above)\\n\\nPrompt LM with 100 most recent observations and to generate 3 most salient high-level questions given a set of observations/statements. Then ask LM to answer those questions.\\n\\n\\nPlanning & Reacting: translate the reflections and the environment information into actions\\n\\nPlanning is essentially in order to optimize believability at the moment vs in time.\\nPrompt template: {Intro of an agent X}. Here is X's plan today in broad strokes: 1)\\nRelationships between agents and observations of one agent by another are all taken into consideration for planning and reacting.\\nEnvironment information is present in a tree structure.\\n\\n\\n\\n\\nFig. 13. The generative agent architecture. (Image source: Park et al. 2023)\\nThis fun simulation results in emergent social behavior, such as information diffusion, relationship memory (e.g. two agents continuing the conversation topic) and coordination of social events (e.g. host a party and invite many others).\\nProof-of-Concept Examples#\\nAutoGPT has drawn a lot of attention into the possibility of setting up autonomous agents with LLM as the main controller. It has quite a lot of reliability issues given the natural language interface, but nevertheless a cool proof-of-concept demo. A lot of code in AutoGPT is about format parsing.\\nHere is the system message used by AutoGPT, where {{...}} are user inputs:\\nYou are {{ai-name}}, {{user-provided AI bot description}}.\\nYour decisions must always be made independently without seeking user assistance. Play to your strengths as an LLM and pursue simple strategies with no legal complications.\\n\\nGOALS:\"),\n",
              " Document(metadata={'source': 'https://lilianweng.github.io/posts/2023-06-23-agent/', 'title': \"LLM Powered Autonomous Agents | Lil'Log\", 'description': 'Building agents with LLM (large language model) as its core controller is a cool concept. Several proof-of-concepts demos, such as AutoGPT, GPT-Engineer and BabyAGI, serve as inspiring examples. The potentiality of LLM extends beyond generating well-written copies, stories, essays and programs; it can be framed as a powerful general problem solver.\\nAgent System Overview\\nIn a LLM-powered autonomous agent system, LLM functions as the agent’s brain, complemented by several key components:\\n\\nPlanning\\n\\nSubgoal and decomposition: The agent breaks down large tasks into smaller, manageable subgoals, enabling efficient handling of complex tasks.\\nReflection and refinement: The agent can do self-criticism and self-reflection over past actions, learn from mistakes and refine them for future steps, thereby improving the quality of final results.\\n\\n\\nMemory\\n\\nShort-term memory: I would consider all the in-context learning (See Prompt Engineering) as utilizing short-term memory of the model to learn.\\nLong-term memory: This provides the agent with the capability to retain and recall (infinite) information over extended periods, often by leveraging an external vector store and fast retrieval.\\n\\n\\nTool use\\n\\nThe agent learns to call external APIs for extra information that is missing from the model weights (often hard to change after pre-training), including current information, code execution capability, access to proprietary information sources and more.\\n\\n\\n\\n\\nFig. 1. Overview of a LLM-powered autonomous agent system.\\nComponent One: Planning\\nA complicated task usually involves many steps. An agent needs to know what they are and plan ahead.', 'language': 'en'}, page_content='Tool use\\n\\nThe agent learns to call external APIs for extra information that is missing from the model weights (often hard to change after pre-training), including current information, code execution capability, access to proprietary information sources and more.'),\n",
              " Document(metadata={'source': 'https://lilianweng.github.io/posts/2023-06-23-agent/', 'title': \"LLM Powered Autonomous Agents | Lil'Log\", 'description': 'Building agents with LLM (large language model) as its core controller is a cool concept. Several proof-of-concepts demos, such as AutoGPT, GPT-Engineer and BabyAGI, serve as inspiring examples. The potentiality of LLM extends beyond generating well-written copies, stories, essays and programs; it can be framed as a powerful general problem solver.\\nAgent System Overview\\nIn a LLM-powered autonomous agent system, LLM functions as the agent’s brain, complemented by several key components:\\n\\nPlanning\\n\\nSubgoal and decomposition: The agent breaks down large tasks into smaller, manageable subgoals, enabling efficient handling of complex tasks.\\nReflection and refinement: The agent can do self-criticism and self-reflection over past actions, learn from mistakes and refine them for future steps, thereby improving the quality of final results.\\n\\n\\nMemory\\n\\nShort-term memory: I would consider all the in-context learning (See Prompt Engineering) as utilizing short-term memory of the model to learn.\\nLong-term memory: This provides the agent with the capability to retain and recall (infinite) information over extended periods, often by leveraging an external vector store and fast retrieval.\\n\\n\\nTool use\\n\\nThe agent learns to call external APIs for extra information that is missing from the model weights (often hard to change after pre-training), including current information, code execution capability, access to proprietary information sources and more.\\n\\n\\n\\n\\nFig. 1. Overview of a LLM-powered autonomous agent system.\\nComponent One: Planning\\nA complicated task usually involves many steps. An agent needs to know what they are and plan ahead.', 'language': 'en'}, page_content='This benchmark evaluates the agent’s tool use capabilities at three levels:\\n\\nLevel-1 evaluates the ability to call the API. Given an API’s description, the model needs to determine whether to call a given API, call it correctly, and respond properly to API returns.\\nLevel-2 examines the ability to retrieve the API. The model needs to search for possible APIs that may solve the user’s requirement and learn how to use them by reading documentation.\\nLevel-3 assesses the ability to plan API beyond retrieve and call. Given unclear user requests (e.g. schedule group meetings, book flight/hotel/restaurant for a trip), the model may have to conduct multiple API calls to solve it.\\n\\nCase Studies#\\nScientific Discovery Agent#\\nChemCrow (Bran et al. 2023) is a domain-specific example in which LLM is augmented with 13 expert-designed tools to accomplish tasks across organic synthesis, drug discovery, and materials design. The workflow, implemented in LangChain, reflects what was previously described in the ReAct and MRKLs and combines CoT reasoning with tools relevant to the tasks:\\n\\nThe LLM is provided with a list of tool names, descriptions of their utility, and details about the expected input/output.\\nIt is then instructed to answer a user-given prompt using the tools provided when necessary. The instruction suggests the model to follow the ReAct format - Thought, Action, Action Input, Observation.')]"
            ]
          },
          "execution_count": 3,
          "metadata": {},
          "output_type": "execute_result"
        }
      ],
      "source": [
        "docs"
      ]
    },
    {
      "cell_type": "markdown",
      "metadata": {
        "id": "kiy2YHo6GHuj"
      },
      "source": [
        "# 3. Generator"
      ]
    },
    {
      "cell_type": "code",
      "execution_count": null,
      "metadata": {
        "id": "_y9dS0EHGHuj",
        "outputId": "96b60ee5-153f-4bf0-fb6a-3882284c1421"
      },
      "outputs": [
        {
          "name": "stdout",
          "output_type": "stream",
          "text": [
            "Okay, let's break down the provided text and synthesize the key information about LLM-powered autonomous agents.\n",
            "\n",
            "**Core Concept:**\n",
            "\n",
            "The text describes the development of autonomous agents built around Large Language Models (LLMs). These agents are designed to perform complex tasks by combining reasoning, tool usage, and memory.\n",
            "\n",
            "**Key Components of the Agent Architecture:**\n",
            "\n",
            "1.  **LLM as the \"Brain\":** The LLM serves as the core reasoning engine, responsible for understanding the user's goals, planning actions, and generating instructions.\n",
            "\n",
            "2.  **Tool Use:** Agents are equipped to interact with external tools (APIs) to access information, perform calculations, or control external systems. This is a critical element for extending the agent's capabilities beyond the LLM's inherent knowledge.\n",
            "\n",
            "3.  **Memory Systems:**\n",
            "    *   **Short-Term Memory:**  Leverages in-context learning – the LLM’s ability to retain information from previous interactions within a single prompt.\n",
            "    *   **Long-Term Memory:**  Utilizes external vector stores for persistent storage of information, allowing the agent to learn and recall data across multiple sessions.\n",
            "\n",
            "4.  **ReAct and MRKL Frameworks:** The text highlights the use of ReAct (Reason + Act) and MRKL (Memory Retrieval Knowledge Language) as approaches to structuring these agents.  These frameworks emphasize alternating between reasoning steps and taking actions (tool calls) based on observations.\n",
            "\n",
            "**Levels of Tool Use Evaluation:**\n",
            "\n",
            "The text outlines a three-level evaluation framework for assessing an agent’s tool usage:\n",
            "\n",
            "*   **Level 1:**  Basic API call – determining if an API is needed and calling it correctly.\n",
            "*   **Level 2:**  API Retrieval – searching for and learning to use relevant APIs based on documentation.\n",
            "*   **Level 3:**  Complex Planning –  handling ambiguous user requests that require chaining multiple API calls to achieve the desired outcome.\n",
            "\n",
            "**Example: ChemCrow Agent**\n",
            "\n",
            "*   The ChemCrow agent exemplifies this approach, using LLMs augmented with 13 expert-designed tools for organic synthesis, drug discovery, and materials design. It utilizes the ReAct framework with CoT (Chain-of-Thought) reasoning and tool calls.\n",
            "\n",
            "**In essence, the text presents a powerful vision for the future of AI, where LLMs become the foundation for intelligent agents capable of tackling complex, real-world problems through a combination of reasoning, tool integration, and persistent memory.**\n",
            "\n",
            "Do you want me to delve deeper into a specific aspect of this information, such as:\n",
            "\n",
            "*   The ReAct and MRKL frameworks in more detail?\n",
            "*   Specific examples of tools that these agents might use?\n",
            "*   The challenges and limitations of this approach?\n"
          ]
        }
      ],
      "source": [
        "# Generate\n",
        "\n",
        "from langchain_core.output_parsers import StrOutputParser\n",
        "from langchain_core.prompts import PromptTemplate\n",
        "\n",
        "prompt = PromptTemplate(\n",
        "    template=\"\"\"\n",
        "You are an assistant for question-answering tasks.\n",
        "\n",
        "Use the provided context to answer the user's question. If the answer is not in the context, respond with \"I don't know.\"\n",
        "Question: {question}\n",
        "Context: {context}\n",
        "Answer:\n",
        "\"\"\",\n",
        "    input_variables=[\"question\", \"context\"],\n",
        ")\n",
        "\n",
        "llm = ChatOllama(model=local_llm, temperature=0.7)\n",
        "\n",
        "\n",
        "# Post-processing\n",
        "def format_docs(docs):\n",
        "    return \"\\n\\n\".join(doc.page_content for doc in docs)\n",
        "\n",
        "\n",
        "# Chain\n",
        "rag_chain = prompt | llm | StrOutputParser()\n",
        "\n",
        "# Run\n",
        "question = \"what is an agent?\"\n",
        "docs = retriever.invoke(question)\n",
        "generation = rag_chain.invoke({\"context\": docs, \"question\": question})\n",
        "print(generation)\n"
      ]
    },
    {
      "cell_type": "markdown",
      "metadata": {
        "id": "swA9t7UDGHuk"
      },
      "source": [
        "# 4. Hallucination Grader"
      ]
    },
    {
      "cell_type": "code",
      "execution_count": null,
      "metadata": {
        "id": "R9rVfE3fGHuk",
        "outputId": "ec66900b-d40d-433d-fe66-705c69679476"
      },
      "outputs": [
        {
          "data": {
            "text/plain": [
              "{'score': 'yes'}"
            ]
          },
          "execution_count": 5,
          "metadata": {},
          "output_type": "execute_result"
        }
      ],
      "source": [
        "# Hallucination Grader\n",
        "\n",
        "# LLM\n",
        "llm = ChatOllama(model=local_llm, format=\"json\", temperature=0)\n",
        "\n",
        "\n",
        "prompt = PromptTemplate(\n",
        "    template=\"\"\"\n",
        "You are a grader assessing whether an answer is grounded in a provided set of facts.\n",
        "\n",
        "Return a binary score:\n",
        "- Use \"yes\" if the answer is supported by the facts.\n",
        "- Use \"no\" if it is not.\n",
        "\n",
        "Output your answer as a JSON object with a single key: \"score\". Do not include any explanation or additional text.\n",
        "\n",
        "Facts:\n",
        "-------\n",
        "{documents}\n",
        "-------\n",
        "\n",
        "Answer:\n",
        "{generation}\n",
        "\n",
        "output example:\n",
        "{{\n",
        "  \"score\": \"yes\" # or \"no\"\n",
        "}}\n",
        "\n",
        "Your evaluation (JSON only):\n",
        "\"\"\",\n",
        "    input_variables=[\"generation\", \"documents\"],\n",
        ")\n",
        "\n",
        "hallucination_grader = prompt | llm | JsonOutputParser()\n",
        "hallucination_grader.invoke({\"documents\": docs, \"generation\": generation})\n",
        "\n"
      ]
    },
    {
      "cell_type": "markdown",
      "metadata": {
        "id": "nwDu21E4GHul"
      },
      "source": [
        "# Answer Grader"
      ]
    },
    {
      "cell_type": "code",
      "execution_count": null,
      "metadata": {
        "id": "zGMIJI5BGHul",
        "outputId": "f65b4bf8-1946-4df4-ff9b-bf89d7099d29"
      },
      "outputs": [
        {
          "data": {
            "text/plain": [
              "{'score': 'yes'}"
            ]
          },
          "execution_count": 6,
          "metadata": {},
          "output_type": "execute_result"
        }
      ],
      "source": [
        "### Answer Grader\n",
        "\n",
        "# LLM\n",
        "llm = ChatOllama(model=local_llm, format=\"json\", temperature=0)\n",
        "\n",
        "\n",
        "prompt = PromptTemplate(\n",
        "    template=\"\"\"\n",
        "You are a grader assessing whether an answer is useful in resolving a user's question.\n",
        "\n",
        "Return a binary score:\n",
        "- Use \"yes\" if the answer is helpful in addressing the question.\n",
        "- Use \"no\" if it is not.\n",
        "\n",
        "Output your answer as a JSON object with a single key: \"score\". Do not include any explanation or additional text.\n",
        "\n",
        "Answer:\n",
        "-------\n",
        "{generation}\n",
        "-------\n",
        "\n",
        "Question:\n",
        "{question}\n",
        "\n",
        "output example:\n",
        "{{\n",
        "  \"score\": \"no\" # or \"yes\"\n",
        "}}\n",
        "\n",
        "Your evaluation (JSON only):\n",
        "\"\"\",\n",
        "    input_variables=[\"generation\", \"question\"],\n",
        ")\n",
        "\n",
        "answer_grader = prompt | llm | JsonOutputParser()\n",
        "answer_grader.invoke({\"question\": question, \"generation\": generation})"
      ]
    },
    {
      "cell_type": "markdown",
      "metadata": {
        "id": "ef4Jc2vpGHum"
      },
      "source": [
        "# 5. Router"
      ]
    },
    {
      "cell_type": "code",
      "execution_count": null,
      "metadata": {
        "id": "TeQdHKqiGHum",
        "outputId": "c41e3fcf-478b-4093-8048-490bf82256f3"
      },
      "outputs": [
        {
          "name": "stderr",
          "output_type": "stream",
          "text": [
            "C:\\Users\\BS00728\\AppData\\Local\\Temp\\ipykernel_25400\\388845050.py:40: LangChainDeprecationWarning: The method `BaseRetriever.get_relevant_documents` was deprecated in langchain-core 0.1.46 and will be removed in 1.0. Use :meth:`~invoke` instead.\n",
            "  docs = retriever.get_relevant_documents(question)\n"
          ]
        },
        {
          "name": "stdout",
          "output_type": "stream",
          "text": [
            "{'datasource': 'vectorstore'}\n"
          ]
        }
      ],
      "source": [
        "# Router\n",
        "\n",
        "from langchain_community.chat_models import ChatOllama\n",
        "from langchain_core.output_parsers import JsonOutputParser\n",
        "from langchain_core.prompts import PromptTemplate\n",
        "\n",
        "# LLM\n",
        "llm = ChatOllama(model=local_llm, format=\"json\", temperature=0)\n",
        "\n",
        "prompt = PromptTemplate(\n",
        "    template=\"\"\"\n",
        "You are an expert at routing a user question to either a vectorstore or a web search.\n",
        "\n",
        "Use **vectorstore** if the question is about:\n",
        "- LLM agents\n",
        "- Prompt engineering\n",
        "- Adversarial attacks\n",
        "\n",
        "You do not need to be strict about exact keywords—choose vectorstore if the topic is clearly related.\n",
        "Otherwise, use **web_search**.\n",
        "\n",
        "Return your decision as a JSON object with a single key: \"datasource\".\n",
        "Valid values: \"vectorstore\" or \"web_search\".\n",
        "Do not include any explanation or additional text. Never leave it blank.\n",
        "\n",
        "Question to route:\n",
        "{question}\n",
        "\n",
        "{{\n",
        "    \"datasource\": \"web_search\" # or \"vectorstore\"\n",
        "}}\n",
        "\n",
        "Your response (JSON only):\n",
        "\"\"\",\n",
        "    input_variables=[\"question\"],\n",
        ")\n",
        "\n",
        "question_router = prompt | llm | JsonOutputParser()\n",
        "question = \"tell me about ai agents\"\n",
        "docs = retriever.get_relevant_documents(question)\n",
        "doc_txt = docs[1].page_content\n",
        "print(question_router.invoke({\"question\": question}))\n"
      ]
    },
    {
      "cell_type": "markdown",
      "metadata": {
        "id": "hdBQ50leGHum"
      },
      "source": [
        "# 6. Web Search"
      ]
    },
    {
      "cell_type": "code",
      "execution_count": null,
      "metadata": {
        "id": "6XOv7LPlGHun"
      },
      "outputs": [],
      "source": [
        "# Search\n",
        "import os\n",
        "from langchain_community.tools.tavily_search import TavilySearchResults\n",
        "tavily_api_key = os.getenv(\"TAVILY_API_KEY\")\n",
        "web_search_tool = TavilySearchResults(k=3,tavily_api_key=tavily_api_key)\n"
      ]
    },
    {
      "cell_type": "code",
      "execution_count": null,
      "metadata": {
        "id": "2YN1gPfsGHun",
        "outputId": "63269fcb-cdbc-4c9d-c68b-5aaf96b70a90"
      },
      "outputs": [
        {
          "data": {
            "text/plain": [
              "[{'url': 'https://en.wikipedia.org/wiki/Intelligent_agent',\n",
              "  'content': 'In the context of generative artificial intelligence, AI agents (also referred to as compound AI systems) are a class of intelligent agents distinguished by their ability to operate autonomously in complex environments. They possess several key attributes, including complex goal structures, natural language interfaces, the capacity to act independently of user supervision, and the integration of software tools or planning systems. Their control flow is frequently driven by large language [...] In artificial intelligence, an intelligent agent is an entity that perceives its environment, takes actions autonomously to achieve goals, and may improve its performance through machine learning or by acquiring knowledge. Leading AI textbooks define artificial intelligence as the \"study and design of intelligent agents,\" emphasizing that goal-directed behavior is central to intelligence. [...] A specialized subset of intelligent agents, agentic AI (also known as an AI agent or simply agent), expands this concept by proactively pursuing goals, making decisions, and taking actions over extended periods, thereby exemplifying a novel form of digital agency.[1]'},\n",
              " {'url': 'https://zapier.com/blog/ai-agent/',\n",
              "  'content': 'What are AI agents?\\nAn AI agent is an entity that can act autonomously in an environment. It can take information from its surroundings, make decisions based on that data, and act to transform those circumstances—physical, digital, or mixed. More advanced systems can learn and update their behavior over time, constantly trying out new solutions to a problem until they achieve the goal. [...] AI Agent is a flexible app that lets you create your own agents, by picking a name, an objective, and the AI model it should use. After it initializes the goal and creates the first task list, you can edit and add your own tasks. Give it time to complete each step: it can take more than 20 minutes to complete advanced tasks. [...] An LLM is an AI model trained with a massive amount of data so it can recognize patterns in human language. This feature allows it to understand and generate text by predicting every next word in a sentence.\\nAn AI agent, sometimes powered by an LLM, is a system that includes sensors, actuators, knowledge bases, and control systems to interact with its surrounding environment—digital, physical, or mixed.\\nHow do AI agents integrate with existing systems and workflows?'},\n",
              " {'url': 'https://aws.amazon.com/what-is/ai-agents/',\n",
              "  'content': 'An artificial intelligence (AI) agent is a software program that can interact with its environment, collect data, and use the data to perform self-determined tasks to meet predetermined goals. Humans set goals, but an AI agent independently chooses the best actions it needs to perform to achieve those goals. For example, consider a contact center AI agent that wants to resolves customer queries. The agent will automatically ask the customer different questions, look up information in internal [...] AI agents are autonomous intelligent systems performing specific tasks without human intervention. Organizations use AI agents to achieve specific goals and more efficient business outcomes. Business teams are more productive when they delegate repetitive tasks to AI agents. This way, they can divert their attention to mission-critical or creative activities, adding more value to their organization.\\nReduced costs [...] Learn more about what is artificial intelligence (AI)\\nWhat are the key principles that define AI agents?\\nAll software autonomously completes different tasks as determined by the software developer. So, what makes AI or intelligent agents special?\\nAI agents are rational agents. They make rational decisions based on their perceptions and data to produce optimal performance and results. An AI agent senses its environment with physical or software interfaces.'},\n",
              " {'url': 'https://www.salesforce.com/agentforce/what-are-ai-agents/',\n",
              "  'content': 'AI agents are a type of artificial intelligence (AI) system that can understand and respond to customer inquiries without human intervention. They are created using an agent builder, like Agentforce, and rely on machine learning and natural language processing (NLP) to handle a wide range of tasks. These intelligent agents can include anything from answering simple questions to resolving complex issues — even multi-tasking. Most importantly, AI agents can continuously improve their own [...] Want better, fully-optimized marketing campaigns? AI agents can help your marketing team build better campaigns — faster. With Agentforce Campaigns, AI agents generate a campaign brief and target audience segment, then create relevant content speaking to those audiences. AI can even build a customer journey in Flow. AI agents also continually analyze campaign performance against your key performance indicators and proactively recommend improvements. [...] They can also build personalized patient treatment plans and assist with records management. Looking for ideal candidates for trials? An AI agent can match eligible candidates to relevant clinical trials using patient details and study criteria, simplifying analysis.\\nYou can also use an AI agent to gain a complete view of your provider network. This allows you to quickly review provider information and past performance, boosting efficiency and lowering patient wait times.\\n(back to top)'},\n",
              " {'url': 'https://www.ibm.com/think/topics/ai-agents',\n",
              "  'content': 'With the ongoing\\xa0advancements\\xa0in\\xa0generative AI, there is a growing interest in workflow\\xa0optimization using AI, or intelligent automation.\\xa0AI agents\\xa0are\\xa0AI tools\\xa0that can\\xa0automate\\xa0complex tasks\\xa0that would otherwise require human resources. This translates to goals being reached inexpensively, rapidly and at scale. In turn, these\\xa0advancements\\xa0mean\\xa0human agents\\xa0do not need to provide direction to the\\xa0AI assistant\\xa0for creating and navigating its tasks.\\nGreater performance [...] What Are AI Agents? | IBM\\nMy IBM Log in Subscribe   \\nWhat are AI agents?\\nArtificial Intelligence\\n3 July 2024\\nLink copied\\nAuthors\\nAnna Gutowska\\nData Scientist, Developer Advocacy, IBM\\nWhat are AI agents?\\nAn\\xa0artificial intelligence (AI)\\xa0agent refers to a system or program that is capable of autonomously performing tasks on behalf of a user or another system by designing its workflow and utilizing available tools. [...] At the core of AI agents are\\xa0large language models (LLMs). For this reason, AI agents are often referred to as LLM agents.\\xa0Traditional\\xa0LLMs, such as\\xa0IBM® Granite™ models,\\xa0produce their responses based on the data used to train them and are bounded by knowledge and reasoning limitations. In contrast, agentic technology uses tool calling on the backend to obtain up-to-date information, optimize workflow and create subtasks autonomously to achieve complex goals.'}]"
            ]
          },
          "execution_count": 9,
          "metadata": {},
          "output_type": "execute_result"
        }
      ],
      "source": [
        "web_search_tool.invoke({\"query\": \"tell me about ai agents\"})"
      ]
    },
    {
      "cell_type": "markdown",
      "metadata": {
        "id": "RxKnfn25GHun"
      },
      "source": [
        "# 7. Control Flow"
      ]
    },
    {
      "cell_type": "code",
      "execution_count": null,
      "metadata": {
        "id": "rLiHTGxBGHun",
        "outputId": "bd255a56-7078-430a-8b0f-0f4d67fc559a"
      },
      "outputs": [
        {
          "data": {
            "text/plain": [
              "<langgraph.graph.state.StateGraph at 0x1632ce5b790>"
            ]
          },
          "execution_count": 10,
          "metadata": {},
          "output_type": "execute_result"
        }
      ],
      "source": [
        "from pprint import pprint\n",
        "from typing import List\n",
        "\n",
        "import time\n",
        "\n",
        "from langchain_core.documents import Document\n",
        "from typing_extensions import TypedDict\n",
        "\n",
        "from langgraph.graph import END, StateGraph\n",
        "\n",
        "# State\n",
        "\n",
        "\n",
        "class GraphState(TypedDict):\n",
        "    \"\"\"\n",
        "    Represents the state of our graph.\n",
        "\n",
        "    Attributes:\n",
        "        question: question\n",
        "        generation: LLM generation\n",
        "        web_search: whether to add search\n",
        "        documents: list of documents\n",
        "    \"\"\"\n",
        "\n",
        "    question: str\n",
        "    generation: str\n",
        "    web_search: str\n",
        "    documents: List[str]\n",
        "\n",
        "\n",
        "# Nodes\n",
        "\n",
        "\n",
        "def retrieve(state):\n",
        "    \"\"\"\n",
        "    Retrieve documents from vectorstore\n",
        "\n",
        "    Args:\n",
        "        state (dict): The current graph state\n",
        "\n",
        "    Returns:\n",
        "        state (dict): New key added to state, documents, that contains retrieved documents\n",
        "    \"\"\"\n",
        "    print(\"---RETRIEVE---\")\n",
        "    question = state[\"question\"]\n",
        "\n",
        "    # Retrieval\n",
        "    documents = retriever.invoke(question)\n",
        "    return {\"documents\": documents, \"question\": question}\n",
        "\n",
        "\n",
        "def generate(state):\n",
        "    \"\"\"\n",
        "    Generate answer using RAG on retrieved documents\n",
        "\n",
        "    Args:\n",
        "        state (dict): The current graph state\n",
        "\n",
        "    Returns:\n",
        "        state (dict): New key added to state, generation, that contains LLM generation\n",
        "    \"\"\"\n",
        "    print(\"---GENERATE---\")\n",
        "    question = state[\"question\"]\n",
        "    documents = state[\"documents\"]\n",
        "\n",
        "    # RAG generation\n",
        "    generation = rag_chain.invoke({\"context\": documents, \"question\": question})\n",
        "    return {\"documents\": documents, \"question\": question, \"generation\": generation}\n",
        "\n",
        "\n",
        "def grade_documents(state):\n",
        "    \"\"\"\n",
        "    Determines whether the retrieved documents are relevant to the question\n",
        "    If any document is not relevant, we will set a flag to run web search\n",
        "\n",
        "    Args:\n",
        "        state (dict): The current graph state\n",
        "\n",
        "    Returns:\n",
        "        state (dict): Filtered out irrelevant documents and updated web_search state\n",
        "    \"\"\"\n",
        "\n",
        "    print(\"---CHECK DOCUMENT RELEVANCE TO QUESTION---\")\n",
        "    question = state[\"question\"]\n",
        "    documents = state[\"documents\"]\n",
        "\n",
        "    # Score each doc\n",
        "    filtered_docs = []\n",
        "    web_search = \"No\"\n",
        "    for d in documents:\n",
        "        score = retrieval_grader.invoke(\n",
        "            {\"question\": question, \"document\": d.page_content}\n",
        "        )\n",
        "        grade = score[\"score\"]\n",
        "        # Document relevant\n",
        "        if grade.lower() == \"yes\":\n",
        "            print(\"---GRADE: DOCUMENT RELEVANT---\")\n",
        "            filtered_docs.append(d)\n",
        "        # Document not relevant\n",
        "        else:\n",
        "            print(\"---GRADE: DOCUMENT NOT RELEVANT---\")\n",
        "            # We do not include the document in filtered_docs\n",
        "            # We set a flag to indicate that we want to run web search\n",
        "            web_search = \"Yes\"\n",
        "            continue\n",
        "    return {\"documents\": filtered_docs, \"question\": question, \"web_search\": web_search}\n",
        "\n",
        "\n",
        "def web_search(state):\n",
        "    \"\"\"\n",
        "    Web search based based on the question\n",
        "\n",
        "    Args:\n",
        "        state (dict): The current graph state\n",
        "\n",
        "    Returns:\n",
        "        state (dict): Appended web results to documents\n",
        "    \"\"\"\n",
        "\n",
        "    print(\"---WEB SEARCH---\")\n",
        "    question = state[\"question\"]\n",
        "    documents = state[\"documents\"]\n",
        "\n",
        "    # Web search\n",
        "    docs = web_search_tool.invoke({\"query\": question})\n",
        "    web_results = \"\\n\".join([d[\"content\"] for d in docs])\n",
        "    web_results = Document(page_content=web_results)\n",
        "    if documents is not None:\n",
        "        documents.append(web_results)\n",
        "    else:\n",
        "        documents = [web_results]\n",
        "    return {\"documents\": documents, \"question\": question}\n",
        "\n",
        "\n",
        "# Conditional edge\n",
        "\n",
        "\n",
        "def route_question(state):\n",
        "    \"\"\"\n",
        "    Route question to web search or RAG.\n",
        "\n",
        "    Args:\n",
        "        state (dict): The current graph state\n",
        "\n",
        "    Returns:\n",
        "        str: Next node to call\n",
        "    \"\"\"\n",
        "\n",
        "    print(\"---ROUTE QUESTION---\")\n",
        "    question = state[\"question\"]\n",
        "    print(question)\n",
        "    source = question_router.invoke({\"question\": question})\n",
        "    print(source)\n",
        "    print(source[\"datasource\"])\n",
        "    if source[\"datasource\"] == \"web_search\":\n",
        "        print(\"---ROUTE QUESTION TO WEB SEARCH---\")\n",
        "        return \"websearch\"\n",
        "    elif source[\"datasource\"] == \"vectorstore\":\n",
        "        print(\"---ROUTE QUESTION TO RAG---\")\n",
        "        return \"vectorstore\"\n",
        "\n",
        "\n",
        "def decide_to_generate(state):\n",
        "    \"\"\"\n",
        "    Determines whether to generate an answer, or add web search\n",
        "\n",
        "    Args:\n",
        "        state (dict): The current graph state\n",
        "\n",
        "    Returns:\n",
        "        str: Binary decision for next node to call\n",
        "    \"\"\"\n",
        "\n",
        "    print(\"---ASSESS GRADED DOCUMENTS---\")\n",
        "    state[\"question\"]\n",
        "    web_search = state[\"web_search\"]\n",
        "    state[\"documents\"]\n",
        "\n",
        "    if web_search == \"Yes\":\n",
        "        # All documents have been filtered check_relevance\n",
        "        # We will re-generate a new query\n",
        "        print(\n",
        "            \"---DECISION: ALL DOCUMENTS ARE NOT RELEVANT TO QUESTION, INCLUDE WEB SEARCH---\"\n",
        "        )\n",
        "        return \"websearch\"\n",
        "    else:\n",
        "        # We have relevant documents, so generate answer\n",
        "        print(\"---DECISION: GENERATE---\")\n",
        "        return \"generate\"\n",
        "\n",
        "\n",
        "# Conditional edge\n",
        "\n",
        "\n",
        "def grade_generation_v_documents_and_question(state):\n",
        "    \"\"\"\n",
        "    Determines whether the generation is grounded in the document and answers question.\n",
        "\n",
        "    Args:\n",
        "        state (dict): The current graph state\n",
        "\n",
        "    Returns:\n",
        "        str: Decision for next node to call\n",
        "    \"\"\"\n",
        "\n",
        "    print(\"---CHECK HALLUCINATIONS---\")\n",
        "    question = state[\"question\"]\n",
        "    documents = state[\"documents\"]\n",
        "    generation = state[\"generation\"]\n",
        "    print(\"documents: \", documents)\n",
        "    print(\"generation: \", generation)\n",
        "    score = hallucination_grader.invoke(\n",
        "        {\"documents\": documents, \"generation\": generation}\n",
        "    )\n",
        "    print(\"score: \", score)\n",
        "    # Check hallucination\n",
        "    grade = score[\"score\"]\n",
        "\n",
        "    # Check hallucination\n",
        "    if grade == \"yes\":\n",
        "        print(\"---DECISION: GENERATION IS GROUNDED IN DOCUMENTS---\")\n",
        "        # Check question-answering\n",
        "        print(\"---GRADE GENERATION vs QUESTION---\")\n",
        "        score = answer_grader.invoke({\"question\": question, \"generation\": generation})\n",
        "        grade = score[\"score\"]\n",
        "        if grade == \"yes\":\n",
        "            print(\"---DECISION: GENERATION ADDRESSES QUESTION---\")\n",
        "            return \"useful\"\n",
        "        else:\n",
        "            print(\"---DECISION: GENERATION DOES NOT ADDRESS QUESTION---\")\n",
        "            return \"not useful\"\n",
        "    else:\n",
        "        pprint(\"---DECISION: GENERATION IS NOT GROUNDED IN DOCUMENTS, RE-TRY---\")\n",
        "        return \"not supported\"\n",
        "\n",
        "\n",
        "workflow = StateGraph(GraphState)\n",
        "\n",
        "# Define the nodes\n",
        "workflow.add_node(\"websearch\", web_search)  # web search\n",
        "workflow.add_node(\"retrieve\", retrieve)  # retrieve\n",
        "workflow.add_node(\"grade_documents\", grade_documents)  # grade documents\n",
        "workflow.add_node(\"generate\", generate)  # generatae\n"
      ]
    },
    {
      "cell_type": "markdown",
      "metadata": {
        "id": "7g7GPTdEGHuo"
      },
      "source": [
        "# 8. Build Graph"
      ]
    },
    {
      "cell_type": "code",
      "execution_count": null,
      "metadata": {
        "id": "p-pjmdSUGHuo",
        "outputId": "6c41a662-99d2-4462-d289-e0c1de0410c6"
      },
      "outputs": [
        {
          "data": {
            "text/plain": [
              "<langgraph.graph.state.StateGraph at 0x1632ce5b790>"
            ]
          },
          "execution_count": 11,
          "metadata": {},
          "output_type": "execute_result"
        }
      ],
      "source": [
        "# Build graph\n",
        "workflow.set_conditional_entry_point(\n",
        "    route_question,\n",
        "    {\n",
        "        \"websearch\": \"websearch\",\n",
        "        \"vectorstore\": \"retrieve\",\n",
        "    },\n",
        ")\n",
        "\n",
        "workflow.add_edge(\"retrieve\", \"grade_documents\")\n",
        "workflow.add_conditional_edges(\n",
        "    \"grade_documents\",\n",
        "    decide_to_generate,\n",
        "    {\n",
        "        \"websearch\": \"websearch\",\n",
        "        \"generate\": \"generate\",\n",
        "    },\n",
        ")\n",
        "workflow.add_edge(\"websearch\", \"generate\")\n",
        "workflow.add_conditional_edges(\n",
        "    \"generate\",\n",
        "    grade_generation_v_documents_and_question,\n",
        "    {\n",
        "        \"not supported\": \"generate\",\n",
        "        \"useful\": END,\n",
        "        \"not useful\": \"websearch\",\n",
        "    },\n",
        ")\n"
      ]
    },
    {
      "cell_type": "code",
      "execution_count": null,
      "metadata": {
        "id": "KrIXTSuQGHup",
        "outputId": "bde3a064-bebd-45c2-8832-131dccf7a897"
      },
      "outputs": [
        {
          "name": "stdout",
          "output_type": "stream",
          "text": [
            "---ROUTE QUESTION---\n",
            "What is agent\n",
            "{'datasource': 'vectorstore'}\n",
            "vectorstore\n",
            "---ROUTE QUESTION TO RAG---\n",
            "---RETRIEVE---\n",
            "'Finished running: retrieve:'\n",
            "---CHECK DOCUMENT RELEVANCE TO QUESTION---\n",
            "---GRADE: DOCUMENT RELEVANT---\n",
            "---GRADE: DOCUMENT RELEVANT---\n",
            "---GRADE: DOCUMENT RELEVANT---\n",
            "---GRADE: DOCUMENT RELEVANT---\n",
            "---ASSESS GRADED DOCUMENTS---\n",
            "---DECISION: GENERATE---\n",
            "'Finished running: grade_documents:'\n",
            "---GENERATE---\n",
            "---CHECK HALLUCINATIONS---\n",
            "documents:  [Document(metadata={'source': 'https://lilianweng.github.io/posts/2023-06-23-agent/', 'title': \"LLM Powered Autonomous Agents | Lil'Log\", 'description': 'Building agents with LLM (large language model) as its core controller is a cool concept. Several proof-of-concepts demos, such as AutoGPT, GPT-Engineer and BabyAGI, serve as inspiring examples. The potentiality of LLM extends beyond generating well-written copies, stories, essays and programs; it can be framed as a powerful general problem solver.\\nAgent System Overview\\nIn a LLM-powered autonomous agent system, LLM functions as the agent’s brain, complemented by several key components:\\n\\nPlanning\\n\\nSubgoal and decomposition: The agent breaks down large tasks into smaller, manageable subgoals, enabling efficient handling of complex tasks.\\nReflection and refinement: The agent can do self-criticism and self-reflection over past actions, learn from mistakes and refine them for future steps, thereby improving the quality of final results.\\n\\n\\nMemory\\n\\nShort-term memory: I would consider all the in-context learning (See Prompt Engineering) as utilizing short-term memory of the model to learn.\\nLong-term memory: This provides the agent with the capability to retain and recall (infinite) information over extended periods, often by leveraging an external vector store and fast retrieval.\\n\\n\\nTool use\\n\\nThe agent learns to call external APIs for extra information that is missing from the model weights (often hard to change after pre-training), including current information, code execution capability, access to proprietary information sources and more.\\n\\n\\n\\n\\nFig. 1. Overview of a LLM-powered autonomous agent system.\\nComponent One: Planning\\nA complicated task usually involves many steps. An agent needs to know what they are and plan ahead.', 'language': 'en'}, page_content=\"LLM Powered Autonomous Agents | Lil'Log\\n\\n\\n\\n\\n\\n\\n\\n\\n\\n\\n\\n\\n\\n\\n\\n\\n\\n\\n\\n\\n\\n\\n\\n\\n\\n\\n\\n\\n\\n\\n\\n\\n\\n\\n\\n\\n\\n\\n\\nLil'Log\\n\\n\\n\\n\\n\\n\\n\\n\\n\\n\\n\\n\\n\\n\\n\\n\\n\\n|\\n\\n\\n\\n\\n\\n\\nPosts\\n\\n\\n\\n\\nArchive\\n\\n\\n\\n\\nSearch\\n\\n\\n\\n\\nTags\\n\\n\\n\\n\\nFAQ\\n\\n\\n\\n\\n\\n\\n\\n\\n\\n      LLM Powered Autonomous Agents\\n    \\nDate: June 23, 2023  |  Estimated Reading Time: 31 min  |  Author: Lilian Weng\\n\\n\\n \\n\\n\\nTable of Contents\\n\\n\\n\\nAgent System Overview\\n\\nComponent One: Planning\\n\\nTask Decomposition\\n\\nSelf-Reflection\\n\\n\\nComponent Two: Memory\\n\\nTypes of Memory\\n\\nMaximum Inner Product Search (MIPS)\\n\\n\\nComponent Three: Tool Use\\n\\nCase Studies\\n\\nScientific Discovery Agent\\n\\nGenerative Agents Simulation\\n\\nProof-of-Concept Examples\\n\\n\\nChallenges\\n\\nCitation\\n\\nReferences\\n\\n\\n\\n\\n\\nBuilding agents with LLM (large language model) as its core controller is a cool concept. Several proof-of-concepts demos, such as AutoGPT, GPT-Engineer and BabyAGI, serve as inspiring examples. The potentiality of LLM extends beyond generating well-written copies, stories, essays and programs; it can be framed as a powerful general problem solver.\\nAgent System Overview#\\nIn a LLM-powered autonomous agent system, LLM functions as the agent’s brain, complemented by several key components:\\n\\nPlanning\\n\\nSubgoal and decomposition: The agent breaks down large tasks into smaller, manageable subgoals, enabling efficient handling of complex tasks.\\nReflection and refinement: The agent can do self-criticism and self-reflection over past actions, learn from mistakes and refine them for future steps, thereby improving the quality of final results.\\n\\n\\nMemory\\n\\nShort-term memory: I would consider all the in-context learning (See Prompt Engineering) as utilizing short-term memory of the model to learn.\\nLong-term memory: This provides the agent with the capability to retain and recall (infinite) information over extended periods, often by leveraging an external vector store and fast retrieval.\\n\\n\\nTool use\"), Document(metadata={'source': 'https://lilianweng.github.io/posts/2023-06-23-agent/', 'title': \"LLM Powered Autonomous Agents | Lil'Log\", 'description': 'Building agents with LLM (large language model) as its core controller is a cool concept. Several proof-of-concepts demos, such as AutoGPT, GPT-Engineer and BabyAGI, serve as inspiring examples. The potentiality of LLM extends beyond generating well-written copies, stories, essays and programs; it can be framed as a powerful general problem solver.\\nAgent System Overview\\nIn a LLM-powered autonomous agent system, LLM functions as the agent’s brain, complemented by several key components:\\n\\nPlanning\\n\\nSubgoal and decomposition: The agent breaks down large tasks into smaller, manageable subgoals, enabling efficient handling of complex tasks.\\nReflection and refinement: The agent can do self-criticism and self-reflection over past actions, learn from mistakes and refine them for future steps, thereby improving the quality of final results.\\n\\n\\nMemory\\n\\nShort-term memory: I would consider all the in-context learning (See Prompt Engineering) as utilizing short-term memory of the model to learn.\\nLong-term memory: This provides the agent with the capability to retain and recall (infinite) information over extended periods, often by leveraging an external vector store and fast retrieval.\\n\\n\\nTool use\\n\\nThe agent learns to call external APIs for extra information that is missing from the model weights (often hard to change after pre-training), including current information, code execution capability, access to proprietary information sources and more.\\n\\n\\n\\n\\nFig. 1. Overview of a LLM-powered autonomous agent system.\\nComponent One: Planning\\nA complicated task usually involves many steps. An agent needs to know what they are and plan ahead.', 'language': 'en'}, page_content='Tool use\\n\\nThe agent learns to call external APIs for extra information that is missing from the model weights (often hard to change after pre-training), including current information, code execution capability, access to proprietary information sources and more.'), Document(metadata={'source': 'https://lilianweng.github.io/posts/2023-06-23-agent/', 'title': \"LLM Powered Autonomous Agents | Lil'Log\", 'description': 'Building agents with LLM (large language model) as its core controller is a cool concept. Several proof-of-concepts demos, such as AutoGPT, GPT-Engineer and BabyAGI, serve as inspiring examples. The potentiality of LLM extends beyond generating well-written copies, stories, essays and programs; it can be framed as a powerful general problem solver.\\nAgent System Overview\\nIn a LLM-powered autonomous agent system, LLM functions as the agent’s brain, complemented by several key components:\\n\\nPlanning\\n\\nSubgoal and decomposition: The agent breaks down large tasks into smaller, manageable subgoals, enabling efficient handling of complex tasks.\\nReflection and refinement: The agent can do self-criticism and self-reflection over past actions, learn from mistakes and refine them for future steps, thereby improving the quality of final results.\\n\\n\\nMemory\\n\\nShort-term memory: I would consider all the in-context learning (See Prompt Engineering) as utilizing short-term memory of the model to learn.\\nLong-term memory: This provides the agent with the capability to retain and recall (infinite) information over extended periods, often by leveraging an external vector store and fast retrieval.\\n\\n\\nTool use\\n\\nThe agent learns to call external APIs for extra information that is missing from the model weights (often hard to change after pre-training), including current information, code execution capability, access to proprietary information sources and more.\\n\\n\\n\\n\\nFig. 1. Overview of a LLM-powered autonomous agent system.\\nComponent One: Planning\\nA complicated task usually involves many steps. An agent needs to know what they are and plan ahead.', 'language': 'en'}, page_content=\"Each element is an observation, an event directly provided by the agent.\\n- Inter-agent communication can trigger new natural language statements.\\n\\n\\nRetrieval model: surfaces the context to inform the agent’s behavior, according to relevance, recency and importance.\\n\\nRecency: recent events have higher scores\\nImportance: distinguish mundane from core memories. Ask LM directly.\\nRelevance: based on how related it is to the current situation / query.\\n\\n\\nReflection mechanism: synthesizes memories into higher level inferences over time and guides the agent’s future behavior. They are higher-level summaries of past events (<- note that this is a bit different from self-reflection above)\\n\\nPrompt LM with 100 most recent observations and to generate 3 most salient high-level questions given a set of observations/statements. Then ask LM to answer those questions.\\n\\n\\nPlanning & Reacting: translate the reflections and the environment information into actions\\n\\nPlanning is essentially in order to optimize believability at the moment vs in time.\\nPrompt template: {Intro of an agent X}. Here is X's plan today in broad strokes: 1)\\nRelationships between agents and observations of one agent by another are all taken into consideration for planning and reacting.\\nEnvironment information is present in a tree structure.\\n\\n\\n\\n\\nFig. 13. The generative agent architecture. (Image source: Park et al. 2023)\\nThis fun simulation results in emergent social behavior, such as information diffusion, relationship memory (e.g. two agents continuing the conversation topic) and coordination of social events (e.g. host a party and invite many others).\\nProof-of-Concept Examples#\\nAutoGPT has drawn a lot of attention into the possibility of setting up autonomous agents with LLM as the main controller. It has quite a lot of reliability issues given the natural language interface, but nevertheless a cool proof-of-concept demo. A lot of code in AutoGPT is about format parsing.\\nHere is the system message used by AutoGPT, where {{...}} are user inputs:\\nYou are {{ai-name}}, {{user-provided AI bot description}}.\\nYour decisions must always be made independently without seeking user assistance. Play to your strengths as an LLM and pursue simple strategies with no legal complications.\\n\\nGOALS:\"), Document(metadata={'source': 'https://lilianweng.github.io/posts/2023-06-23-agent/', 'title': \"LLM Powered Autonomous Agents | Lil'Log\", 'description': 'Building agents with LLM (large language model) as its core controller is a cool concept. Several proof-of-concepts demos, such as AutoGPT, GPT-Engineer and BabyAGI, serve as inspiring examples. The potentiality of LLM extends beyond generating well-written copies, stories, essays and programs; it can be framed as a powerful general problem solver.\\nAgent System Overview\\nIn a LLM-powered autonomous agent system, LLM functions as the agent’s brain, complemented by several key components:\\n\\nPlanning\\n\\nSubgoal and decomposition: The agent breaks down large tasks into smaller, manageable subgoals, enabling efficient handling of complex tasks.\\nReflection and refinement: The agent can do self-criticism and self-reflection over past actions, learn from mistakes and refine them for future steps, thereby improving the quality of final results.\\n\\n\\nMemory\\n\\nShort-term memory: I would consider all the in-context learning (See Prompt Engineering) as utilizing short-term memory of the model to learn.\\nLong-term memory: This provides the agent with the capability to retain and recall (infinite) information over extended periods, often by leveraging an external vector store and fast retrieval.\\n\\n\\nTool use\\n\\nThe agent learns to call external APIs for extra information that is missing from the model weights (often hard to change after pre-training), including current information, code execution capability, access to proprietary information sources and more.\\n\\n\\n\\n\\nFig. 1. Overview of a LLM-powered autonomous agent system.\\nComponent One: Planning\\nA complicated task usually involves many steps. An agent needs to know what they are and plan ahead.', 'language': 'en'}, page_content=\"Nlp\\nLanguage-Model\\nAgent\\nSteerability\\nPrompting\\n\\n\\n\\n« \\n\\nAdversarial Attacks on LLMs\\n\\n\\n »\\n\\nPrompt Engineering\\n\\n\\n\\n\\n\\n\\n\\n\\n\\n\\n\\n\\n\\n\\n\\n\\n\\n\\n\\n\\n\\n\\n\\n\\n\\n\\n\\n\\n\\n\\n\\n\\n\\n\\n\\n\\n\\n\\n© 2025 Lil'Log\\n\\n        Powered by\\n        Hugo &\\n        PaperMod\")]\n",
            "generation:  Here's a breakdown of the key concepts and information presented in the provided text, categorized for clarity:\n",
            "\n",
            "**1. Core Agent Architecture:**\n",
            "\n",
            "* **LLM as the Brain:** The core of the autonomous agent is a Large Language Model (LLM).\n",
            "* **Components:** The agent is built around several key components:\n",
            "    * **Planning:** Breaking down complex tasks into smaller, manageable goals.\n",
            "    * **Reacting:**  Responding to the environment and observations.\n",
            "    * **Memory:**  Storing and recalling information (short-term and long-term).\n",
            "    * **Reflection:** Synthesizing memories into higher-level inferences and guiding future behavior.\n",
            "\n",
            "**2. Memory Systems:**\n",
            "\n",
            "* **Short-Term Memory:** Primarily through in-context learning (prompting the LLM with recent observations).\n",
            "* **Long-Term Memory:** Utilizing an external vector store for persistent information retrieval.\n",
            "\n",
            "**3. Key Processes & Techniques:**\n",
            "\n",
            "* **Prompt Engineering:** Crucial for steering the LLM’s behavior and guiding its actions.\n",
            "* **Reflection Mechanism:**\n",
            "    *  The agent synthesizes memories into higher-level inferences.\n",
            "    *  It prompts the LLM with recent observations and asks it to generate the 3 most salient high-level questions.\n",
            "    *  It then asks the LLM to answer those questions.\n",
            "* **Planning & Reacting:** Translating reflections and environmental information into actions.\n",
            "* **Steerability:** The ability to influence and guide the LLM’s actions through prompting.\n",
            "\n",
            "**4. Tool Use & External Connections:**\n",
            "\n",
            "* **API Calls:** Agents learn to call external APIs to access information and perform actions.\n",
            "\n",
            "**5. Examples & Proof-of-Concept:**\n",
            "\n",
            "* **AutoGPT:**  A prominent example of an LLM-based autonomous agent, though it has reliability issues.  It relies heavily on format parsing.\n",
            "* **System Message (AutoGPT):**  A sample system message used by AutoGPT, including user inputs and defined goals.  It emphasizes independent decision-making and avoids legal complications.\n",
            "\n",
            "**6. Emergent Behavior:**\n",
            "\n",
            "* **Social Simulation:** The agent architecture can lead to emergent social behaviors, such as:\n",
            "    * Information diffusion\n",
            "    * Relationship memory (agents continuing conversations)\n",
            "    * Coordination of social events.\n",
            "\n",
            "\n",
            "**7.  Related Concepts:**\n",
            "\n",
            "* **NLP (Natural Language Processing)**\n",
            "* **Language Model**\n",
            "\n",
            "---\n",
            "\n",
            "Would you like me to delve deeper into a specific aspect of this information, such as:\n",
            "\n",
            "*   The role of prompt engineering?\n",
            "*   How the memory system works in more detail?\n",
            "*   A closer look at the AutoGPT example?\n",
            "score:  {'score': 'yes'}\n",
            "---DECISION: GENERATION IS GROUNDED IN DOCUMENTS---\n",
            "---GRADE GENERATION vs QUESTION---\n",
            "---DECISION: GENERATION ADDRESSES QUESTION---\n",
            "'Finished running: generate:'\n",
            "(\"Here's a breakdown of the key concepts and information presented in the \"\n",
            " 'provided text, categorized for clarity:\\n'\n",
            " '\\n'\n",
            " '**1. Core Agent Architecture:**\\n'\n",
            " '\\n'\n",
            " '* **LLM as the Brain:** The core of the autonomous agent is a Large Language '\n",
            " 'Model (LLM).\\n'\n",
            " '* **Components:** The agent is built around several key components:\\n'\n",
            " '    * **Planning:** Breaking down complex tasks into smaller, manageable '\n",
            " 'goals.\\n'\n",
            " '    * **Reacting:**  Responding to the environment and observations.\\n'\n",
            " '    * **Memory:**  Storing and recalling information (short-term and '\n",
            " 'long-term).\\n'\n",
            " '    * **Reflection:** Synthesizing memories into higher-level inferences and '\n",
            " 'guiding future behavior.\\n'\n",
            " '\\n'\n",
            " '**2. Memory Systems:**\\n'\n",
            " '\\n'\n",
            " '* **Short-Term Memory:** Primarily through in-context learning (prompting '\n",
            " 'the LLM with recent observations).\\n'\n",
            " '* **Long-Term Memory:** Utilizing an external vector store for persistent '\n",
            " 'information retrieval.\\n'\n",
            " '\\n'\n",
            " '**3. Key Processes & Techniques:**\\n'\n",
            " '\\n'\n",
            " '* **Prompt Engineering:** Crucial for steering the LLM’s behavior and '\n",
            " 'guiding its actions.\\n'\n",
            " '* **Reflection Mechanism:**\\n'\n",
            " '    *  The agent synthesizes memories into higher-level inferences.\\n'\n",
            " '    *  It prompts the LLM with recent observations and asks it to generate '\n",
            " 'the 3 most salient high-level questions.\\n'\n",
            " '    *  It then asks the LLM to answer those questions.\\n'\n",
            " '* **Planning & Reacting:** Translating reflections and environmental '\n",
            " 'information into actions.\\n'\n",
            " '* **Steerability:** The ability to influence and guide the LLM’s actions '\n",
            " 'through prompting.\\n'\n",
            " '\\n'\n",
            " '**4. Tool Use & External Connections:**\\n'\n",
            " '\\n'\n",
            " '* **API Calls:** Agents learn to call external APIs to access information '\n",
            " 'and perform actions.\\n'\n",
            " '\\n'\n",
            " '**5. Examples & Proof-of-Concept:**\\n'\n",
            " '\\n'\n",
            " '* **AutoGPT:**  A prominent example of an LLM-based autonomous agent, though '\n",
            " 'it has reliability issues.  It relies heavily on format parsing.\\n'\n",
            " '* **System Message (AutoGPT):**  A sample system message used by AutoGPT, '\n",
            " 'including user inputs and defined goals.  It emphasizes independent '\n",
            " 'decision-making and avoids legal complications.\\n'\n",
            " '\\n'\n",
            " '**6. Emergent Behavior:**\\n'\n",
            " '\\n'\n",
            " '* **Social Simulation:** The agent architecture can lead to emergent social '\n",
            " 'behaviors, such as:\\n'\n",
            " '    * Information diffusion\\n'\n",
            " '    * Relationship memory (agents continuing conversations)\\n'\n",
            " '    * Coordination of social events.\\n'\n",
            " '\\n'\n",
            " '\\n'\n",
            " '**7.  Related Concepts:**\\n'\n",
            " '\\n'\n",
            " '* **NLP (Natural Language Processing)**\\n'\n",
            " '* **Language Model**\\n'\n",
            " '\\n'\n",
            " '---\\n'\n",
            " '\\n'\n",
            " 'Would you like me to delve deeper into a specific aspect of this '\n",
            " 'information, such as:\\n'\n",
            " '\\n'\n",
            " '*   The role of prompt engineering?\\n'\n",
            " '*   How the memory system works in more detail?\\n'\n",
            " '*   A closer look at the AutoGPT example?')\n"
          ]
        }
      ],
      "source": [
        "from pprint import pprint\n",
        "\n",
        "# Compile\n",
        "app = workflow.compile()\n",
        "inputs = {\"question\": \"What is agent\"}\n",
        "for output in app.stream(inputs):\n",
        "    for key, value in output.items():\n",
        "        pprint(f\"Finished running: {key}:\")\n",
        "pprint(value[\"generation\"])\n"
      ]
    },
    {
      "cell_type": "code",
      "execution_count": null,
      "metadata": {
        "id": "fUjIOfHSGHup",
        "outputId": "f0f3f8af-f43e-4345-eff6-eb19bc0c163f"
      },
      "outputs": [
        {
          "name": "stdout",
          "output_type": "stream",
          "text": [
            "%%{init: {'flowchart': {'curve': 'linear'}}}%%\n",
            "graph TD;\n",
            "\t__start__([<p>__start__</p>]):::first\n",
            "\twebsearch(websearch)\n",
            "\tretrieve(retrieve)\n",
            "\tgrade_documents(grade_documents)\n",
            "\tgenerate(generate)\n",
            "\t__end__([<p>__end__</p>]):::last\n",
            "\tretrieve --> grade_documents;\n",
            "\twebsearch --> generate;\n",
            "\t__start__ -.-> websearch;\n",
            "\t__start__ -. &nbsp;vectorstore&nbsp; .-> retrieve;\n",
            "\tgrade_documents -.-> websearch;\n",
            "\tgrade_documents -.-> generate;\n",
            "\tgenerate -. &nbsp;useful&nbsp; .-> __end__;\n",
            "\tgenerate -. &nbsp;not useful&nbsp; .-> websearch;\n",
            "\tgenerate -. &nbsp;not supported&nbsp; .-> generate;\n",
            "\tclassDef default fill:#f2f0ff,line-height:1.2\n",
            "\tclassDef first fill-opacity:0\n",
            "\tclassDef last fill:#bfb6fc\n",
            "\n"
          ]
        }
      ],
      "source": [
        "print(app.get_graph().draw_mermaid())"
      ]
    },
    {
      "cell_type": "code",
      "execution_count": null,
      "metadata": {
        "id": "oSQiuSrpGHup",
        "outputId": "51aa954e-4ca7-42e9-ca56-c72f11ff4f0e"
      },
      "outputs": [
        {
          "data": {
            "image/png": "[encoded data removed]",
            "text/plain": [
              "<IPython.core.display.Image object>"
            ]
          },
          "metadata": {},
          "output_type": "display_data"
        }
      ],
      "source": [
        "from IPython.display import Image, display\n",
        "from langchain_core.runnables.graph import CurveStyle, MermaidDrawMethod, NodeStyles\n",
        "\n",
        "display(\n",
        "    Image(\n",
        "        app.get_graph().draw_mermaid_png(\n",
        "            draw_method=MermaidDrawMethod.API,\n",
        "        )\n",
        "    )\n",
        ")"
      ]
    },
    {
      "cell_type": "code",
      "execution_count": null,
      "metadata": {
        "id": "dWLIJRvIGHuq"
      },
      "outputs": [],
      "source": []
    }
  ],
  "metadata": {
    "kernelspec": {
      "display_name": "env",
      "language": "python",
      "name": "python3"
    },
    "language_info": {
      "codemirror_mode": {
        "name": "ipython",
        "version": 3
      },
      "file_extension": ".py",
      "mimetype": "text/x-python",
      "name": "python",
      "nbconvert_exporter": "python",
      "pygments_lexer": "ipython3",
      "version": "3.11.3"
    },
    "colab": {
      "provenance": []
    }
  },
  "nbformat": 4,
  "nbformat_minor": 0
}